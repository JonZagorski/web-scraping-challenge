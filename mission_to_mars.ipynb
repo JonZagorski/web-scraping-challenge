{
 "metadata": {
  "language_info": {
   "codemirror_mode": {
    "name": "ipython",
    "version": 3
   },
   "file_extension": ".py",
   "mimetype": "text/x-python",
   "name": "python",
   "nbconvert_exporter": "python",
   "pygments_lexer": "ipython3",
   "version": "3.8.3-final"
  },
  "orig_nbformat": 2,
  "kernelspec": {
   "name": "Python 3.8.3 64-bit ('base': conda)",
   "display_name": "Python 3.8.3 64-bit ('base': conda)",
   "metadata": {
    "interpreter": {
     "hash": "8caa3d8257df51217abe3f3d6c616091ac386792819c8553bf81ddb264746820"
    }
   }
  }
 },
 "nbformat": 4,
 "nbformat_minor": 2,
 "cells": [
  {
   "cell_type": "code",
   "execution_count": 28,
   "metadata": {},
   "outputs": [],
   "source": [
    "from bs4 import BeautifulSoup\n",
    "import pandas as pd\n",
    "import requests as req\n",
    "from splinter import Browser\n",
    "from selenium import webdriver"
   ]
  },
  {
   "cell_type": "code",
   "execution_count": 29,
   "metadata": {},
   "outputs": [],
   "source": [
    "executable_path = {'executable_path': 'chromedriver.exe'}\n",
    "browser = Browser('chrome', **executable_path, headless=False)"
   ]
  },
  {
   "cell_type": "code",
   "execution_count": 30,
   "metadata": {},
   "outputs": [],
   "source": [
    "url = \"https://mars.nasa.gov/news/\"\n",
    "\n",
    "browser.visit(url)\n",
    "html = browser.html\n",
    "soup = BeautifulSoup(html, 'html.parser')"
   ]
  },
  {
   "cell_type": "code",
   "execution_count": 31,
   "metadata": {},
   "outputs": [
    {
     "output_type": "stream",
     "name": "stdout",
     "text": [
      "NASA's Perseverance Rover Will Peer Beneath Mars' Surface \nThe agency's newest rover will use the first ground-penetrating radar instrument on the Martian surface to help search for signs of past microbial life. \n"
     ]
    }
   ],
   "source": [
    "article = soup.find(\"div\", class_='list_text')\n",
    "news_title = article.find(\"div\", class_=\"content_title\").text\n",
    "news_p = article.find(\"div\", class_=\"article_teaser_body\").text\n",
    "\n",
    "print(news_title)\n",
    "print(news_p)\n",
    "browser.quit()\n",
    "#this gets me the title and paragraph text for the first section"
   ]
  },
  {
   "cell_type": "code",
   "execution_count": 32,
   "metadata": {},
   "outputs": [],
   "source": [
    "executable_path = {'executable_path': 'chromedriver.exe'}\n",
    "browser = Browser('chrome', **executable_path, headless=False)\n",
    "next_url = \"https://www.jpl.nasa.gov/spaceimages/?search=&category=Mars\"\n",
    "browser.visit(next_url)\n",
    "html = browser.html\n",
    "soup = BeautifulSoup(html, 'html.parser')"
   ]
  },
  {
   "cell_type": "code",
   "execution_count": 33,
   "metadata": {},
   "outputs": [],
   "source": [
    "#click through the website to get to the full sized image\n",
    "browser.links.find_by_partial_text('FULL IMAGE').click()\n",
    "\n",
    "browser.links.find_by_partial_text('more info').click()\n"
   ]
  },
  {
   "cell_type": "code",
   "execution_count": 34,
   "metadata": {
    "tags": []
   },
   "outputs": [],
   "source": [
    "html = browser.html\n",
    "image_soup = BeautifulSoup(html, 'html.parser')"
   ]
  },
  {
   "cell_type": "code",
   "execution_count": 35,
   "metadata": {},
   "outputs": [
    {
     "output_type": "stream",
     "name": "stdout",
     "text": [
      "https://www.jpl.nasa.gov/spaceimages/images/largesize/PIA23446_hires.jpg\n"
     ]
    }
   ],
   "source": [
    "\n",
    "figure = image_soup.find(\"figure\", class_='lede')\n",
    "\n",
    "relative_img = figure.find('img')[\"src\"]\n",
    "featured_image_url = f\"https://www.jpl.nasa.gov{relative_img}\"\n",
    "print(featured_image_url)\n",
    "browser.quit()"
   ]
  },
  {
   "cell_type": "code",
   "execution_count": 36,
   "metadata": {},
   "outputs": [
    {
     "output_type": "execute_result",
     "data": {
      "text/plain": [
       "[                             0\n",
       " 0                     AFC East\n",
       " 1   z --NENew England Patriots\n",
       " 2         y --BUFBuffalo Bills\n",
       " 3             NYJNew York Jets\n",
       " 4            MIAMiami Dolphins\n",
       " 5                    AFC North\n",
       " 6     ** --BALBaltimore Ravens\n",
       " 7       PITPittsburgh Steelers\n",
       " 8          CLECleveland Browns\n",
       " 9        CINCincinnati Bengals\n",
       " 10                   AFC South\n",
       " 11       z --HOUHouston Texans\n",
       " 12     y --TENTennessee Titans\n",
       " 13       INDIndianapolis Colts\n",
       " 14     JAXJacksonville Jaguars\n",
       " 15                    AFC West\n",
       " 16    * --KCKansas City Chiefs\n",
       " 17           DENDenver Broncos\n",
       " 18          OAKOakland Raiders\n",
       " 19     LACLos Angeles Chargers,\n",
       "     0   1  2     3     4     5    6     7    8    9     10    11\n",
       " 0    W   L  T   PCT  HOME  AWAY  DIV  CONF   PF   PA  DIFF  STRK\n",
       " 1   12   4  0  .750   6-2   6-2  5-1   8-4  420  225  +195    L1\n",
       " 2   10   6  0  .625   4-4   6-2  3-3   7-5  314  259   +55    L2\n",
       " 3    7   9  0  .438   5-3   2-6  2-4   4-8  276  359   -83    W2\n",
       " 4    5  11  0  .313   3-5   2-6  2-4   4-8  306  494  -188    W2\n",
       " 5    W   L  T   PCT  HOME  AWAY  DIV  CONF   PF   PA  DIFF  STRK\n",
       " 6   14   2  0  .875   7-1   7-1  5-1  10-2  531  282  +249   W12\n",
       " 7    8   8  0  .500   5-3   3-5  3-3   6-6  289  303   -14    L3\n",
       " 8    6  10  0  .375   4-4   2-6  3-3   6-6  335  393   -58    L3\n",
       " 9    2  14  0  .125   2-6   0-8  1-5  2-10  279  420  -141    W1\n",
       " 10   W   L  T   PCT  HOME  AWAY  DIV  CONF   PF   PA  DIFF  STRK\n",
       " 11  10   6  0  .625   5-3   5-3  4-2   8-4  378  385    -7    L1\n",
       " 12   9   7  0  .563   4-4   5-3  3-3   7-5  402  331   +71    W1\n",
       " 13   7   9  0  .438   5-3   2-6  3-3   5-7  361  373   -12    L1\n",
       " 14   6  10  0  .375   3-5   3-5  2-4   6-6  300  397   -97    W1\n",
       " 15   W   L  T   PCT  HOME  AWAY  DIV  CONF   PF   PA  DIFF  STRK\n",
       " 16  12   4  0  .750   5-3   7-1  6-0   9-3  451  308  +143    W6\n",
       " 17   7   9  0  .438   5-3   2-6  3-3   6-6  282  316   -34    W2\n",
       " 18   7   9  0  .438   5-3   2-6  3-3   5-7  313  419  -106    L1\n",
       " 19   5  11  0  .313   2-6   3-5  0-6   3-9  337  345    -8    L3,\n",
       "                              0\n",
       " 0                     NFC East\n",
       " 1   z --PHIPhiladelphia Eagles\n",
       " 2            DALDallas Cowboys\n",
       " 3           NYGNew York Giants\n",
       " 4                WSHWashington\n",
       " 5                    NFC North\n",
       " 6      * --GBGreen Bay Packers\n",
       " 7     y --MINMinnesota Vikings\n",
       " 8             CHIChicago Bears\n",
       " 9             DETDetroit Lions\n",
       " 10                   NFC South\n",
       " 11    z --NONew Orleans Saints\n",
       " 12          ATLAtlanta Falcons\n",
       " 13      TBTampa Bay Buccaneers\n",
       " 14        CARCarolina Panthers\n",
       " 15                    NFC West\n",
       " 16  ** --SFSan Francisco 49ers\n",
       " 17     y --SEASeattle Seahawks\n",
       " 18         LARLos Angeles Rams\n",
       " 19        ARIArizona Cardinals,\n",
       "     0   1  2     3      4      5    6      7    8    9     10    11\n",
       " 0    W   L  T   PCT   HOME   AWAY  DIV   CONF   PF   PA  DIFF  STRK\n",
       " 1    9   7  0  .563    5-3    4-4  5-1    7-5  385  354   +31    W4\n",
       " 2    8   8  0  .500    5-3    3-5  5-1    7-5  434  321  +113    W1\n",
       " 3    4  12  0  .250    2-6    2-6  2-4    3-9  341  451  -110    L1\n",
       " 4    3  13  0  .188    1-7    2-6  0-6   2-10  266  435  -169    L4\n",
       " 5    W   L  T   PCT   HOME   AWAY  DIV   CONF   PF   PA  DIFF  STRK\n",
       " 6   13   3  0  .813    7-1    6-2  6-0   10-2  376  313   +63    W5\n",
       " 7   10   6  0  .625    6-2    4-4  2-4    7-5  407  303  +104    L2\n",
       " 8    8   8  0  .500    4-4    4-4  4-2    7-5  280  298   -18    W1\n",
       " 9    3  12  1  .219    2-6  1-6-1  0-6  2-9-1  341  423   -82    L9\n",
       " 10   W   L  T   PCT   HOME   AWAY  DIV   CONF   PF   PA  DIFF  STRK\n",
       " 11  13   3  0  .813    6-2    7-1  5-1    9-3  458  341  +117    W3\n",
       " 12   7   9  0  .438    3-5    4-4  4-2    6-6  381  399   -18    W4\n",
       " 13   7   9  0  .438    2-6    5-3  2-4    5-7  458  449    +9    L2\n",
       " 14   5  11  0  .313    2-6    3-5  1-5   2-10  340  470  -130    L8\n",
       " 15   W   L  T   PCT   HOME   AWAY  DIV   CONF   PF   PA  DIFF  STRK\n",
       " 16  13   3  0  .813    6-2    7-1  5-1   10-2  479  310  +169    W2\n",
       " 17  11   5  0  .688    4-4    7-1  3-3    8-4  405  398    +7    L2\n",
       " 18   9   7  0  .563    5-3    4-4  3-3    7-5  394  364   +30    W1\n",
       " 19   5  10  1  .344  2-5-1    3-5  1-5  3-8-1  361  442   -81    L1]"
      ]
     },
     "metadata": {},
     "execution_count": 36
    }
   ],
   "source": [
    "url = \"https://space-facts.com/mars/\"\n",
    "tables = pd.read_html(url)\n",
    "tables"
   ]
  },
  {
   "cell_type": "code",
   "execution_count": null,
   "metadata": {},
   "outputs": [],
   "source": []
  }
 ]
}